from keras.models import load_model
import random

def generate_music(model, note_to_int, sequence_length, num_notes_to_generate=500,temperature=1.0):
    # Select a random starting point from the notes_corpus
    start_index = random.randint(0, len(notes_corpus) - sequence_length - 1)
    pattern = notes_corpus[start_index:start_index + sequence_length]

    generated_notes = []

    # Generate new notes
    for i in range(num_notes_to_generate):
        input_sequence = [note_to_int[note] for note in pattern]
        input_sequence = np.reshape(input_sequence, (1, sequence_length, 1))
        input_sequence = input_sequence / float(len(note_to_int))

        # Predict the next note
        prediction = model.predict(input_sequence, verbose=0)
        prediction = np.asarray(prediction).astype('float64')
        prediction = np.log(prediction) / temperature
        exp_preds = np.exp(prediction)
        prediction = exp_preds / np.sum(exp_preds)

       


        # Sample the next note using the predicted probabilities
        index = np.random.choice(len(prediction[0]), p=prediction[0])
        result = int_to_note[index]

        generated_notes.append(result)

        # Update the input sequence for the next iteration
        pattern.append(result)
        pattern = pattern[1:]

    return generated_notes

# Load the trained model
model = load_model('best_model.h5')

# Generate music
generated_music = generate_music(model, notestoints, sequence_length, num_notes_to_generate=100)

# Print the generated notes
print(generated_music)
